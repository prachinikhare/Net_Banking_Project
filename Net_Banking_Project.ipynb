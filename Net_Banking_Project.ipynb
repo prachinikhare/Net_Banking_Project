{
  "nbformat": 4,
  "nbformat_minor": 0,
  "metadata": {
    "colab": {
      "name": "Net Banking Project.ipynb",
      "provenance": [],
      "collapsed_sections": [],
      "include_colab_link": true
    },
    "kernelspec": {
      "name": "python3",
      "display_name": "Python 3"
    }
  },
  "cells": [
    {
      "cell_type": "markdown",
      "metadata": {
        "id": "view-in-github",
        "colab_type": "text"
      },
      "source": [
        "<a href=\"https://colab.research.google.com/github/prachinikhare/Net_Banking_Project/blob/main/Net_Banking_Project.ipynb\" target=\"_parent\"><img src=\"https://colab.research.google.com/assets/colab-badge.svg\" alt=\"Open In Colab\"/></a>"
      ]
    },
    {
      "cell_type": "markdown",
      "metadata": {
        "id": "SlIBtd9ZmgtG"
      },
      "source": [
        "# **NET** **BANKING** **PROJECT**"
      ]
    },
    {
      "cell_type": "code",
      "metadata": {
        "id": "9ZyjY5KaDdcZ"
      },
      "source": [
        "import pandas as pd"
      ],
      "execution_count": null,
      "outputs": []
    },
    {
      "cell_type": "code",
      "metadata": {
        "colab": {
          "base_uri": "https://localhost:8080/",
          "height": 35
        },
        "id": "e0daUaL8Di4X",
        "outputId": "04bf2721-fdcf-4a09-ee3e-b19fa85807b5"
      },
      "source": [
        "pd.__version__"
      ],
      "execution_count": null,
      "outputs": [
        {
          "output_type": "execute_result",
          "data": {
            "application/vnd.google.colaboratory.intrinsic+json": {
              "type": "string"
            },
            "text/plain": [
              "'1.1.5'"
            ]
          },
          "metadata": {
            "tags": []
          },
          "execution_count": 2
        }
      ]
    },
    {
      "cell_type": "code",
      "metadata": {
        "id": "IN4ghIk-m-aH"
      },
      "source": [
        "Account_no = ['AC4510','AC4511','AC4512','AC4513','AC4514','AC4515','AC4516','AC4517','AC4518','AC4519']\n",
        "Pin        = ['1123','1321','4543','5112','7845','1243','2255','3154','4144','6127']\n",
        "Name       = ['Arya Pavar','Anita','Karthik','Amita Nikhare','Ankita','Krishna','Purva','Anushka','Samarth','Megha']                                                           \n",
        "Branch_name= ['Bardi','Sadar','Nagpur','Itwari','Gandhibagh','Bardi','Sadar','Nagpur','Itwari','Gandhibagh']\n",
        "Branch_no  = ['5','3','4','2','1','5','3','4','2','1']\n",
        "Phone_no   = ['9923451208','7453885512','6743129766','7855219813','9078562314','7077431567','7654879855','9277645331','8065342722','8856341289']\n",
        "Email_id   = ['arya45@gmail.com','anu0678@gmail.com','karthik@gmail.com','amitanikhare@gmail.com','ankita@gmail.com','krishna44@gmail.com','purva56@gmail.com','anu123@gmail.com','samarth670@gmail.com','megha89@gmail.com']\n",
        "Age        = ['21','20','22','19','20','21','19','22','23','19']\n",
        "Address    = ['Bardi Nagpur','Sadar market area Nagpur','Nagpur','Itwari Nagpur','Gandhibagh near town hall mahal Nagpur','Bardi market area Nagpur','Sadar Nagpur','Nagpur','Itwari Nagpur','Gandhibagh Nagpur']\n",
        "Balance    = ['250000','10000','450000','50000','780000','60000','580000','890000','670000','20000']"
      ],
      "execution_count": null,
      "outputs": []
    },
    {
      "cell_type": "code",
      "metadata": {
        "id": "-Lrcn-2UnCTP"
      },
      "source": [
        "sample_data = {'Account_no':Account_no,'Pin':Pin,'Name':Name,'Branch_name':Branch_name,'Branch_no':Branch_no\n",
        "               ,'Phone_no':Phone_no,'Email_id':Email_id,'Age':Age,'Address':Address,'Balance':Balance}"
      ],
      "execution_count": null,
      "outputs": []
    },
    {
      "cell_type": "code",
      "metadata": {
        "id": "_m_YYr3bnJGt",
        "colab": {
          "base_uri": "https://localhost:8080/",
          "height": 359
        },
        "outputId": "aba26dd6-5676-4f26-9c72-09d2f26d8503"
      },
      "source": [
        "df= pd.DataFrame(data = sample_data)\n",
        "df"
      ],
      "execution_count": null,
      "outputs": [
        {
          "output_type": "execute_result",
          "data": {
            "text/html": [
              "<div>\n",
              "<style scoped>\n",
              "    .dataframe tbody tr th:only-of-type {\n",
              "        vertical-align: middle;\n",
              "    }\n",
              "\n",
              "    .dataframe tbody tr th {\n",
              "        vertical-align: top;\n",
              "    }\n",
              "\n",
              "    .dataframe thead th {\n",
              "        text-align: right;\n",
              "    }\n",
              "</style>\n",
              "<table border=\"1\" class=\"dataframe\">\n",
              "  <thead>\n",
              "    <tr style=\"text-align: right;\">\n",
              "      <th></th>\n",
              "      <th>Account_no</th>\n",
              "      <th>Pin</th>\n",
              "      <th>Name</th>\n",
              "      <th>Branch_name</th>\n",
              "      <th>Branch_no</th>\n",
              "      <th>Phone_no</th>\n",
              "      <th>Email_id</th>\n",
              "      <th>Age</th>\n",
              "      <th>Address</th>\n",
              "      <th>Balance</th>\n",
              "    </tr>\n",
              "  </thead>\n",
              "  <tbody>\n",
              "    <tr>\n",
              "      <th>0</th>\n",
              "      <td>AC4510</td>\n",
              "      <td>1123</td>\n",
              "      <td>Arya Pavar</td>\n",
              "      <td>Bardi</td>\n",
              "      <td>5</td>\n",
              "      <td>9923451208</td>\n",
              "      <td>arya45@gmail.com</td>\n",
              "      <td>21</td>\n",
              "      <td>Bardi Nagpur</td>\n",
              "      <td>250000</td>\n",
              "    </tr>\n",
              "    <tr>\n",
              "      <th>1</th>\n",
              "      <td>AC4511</td>\n",
              "      <td>1321</td>\n",
              "      <td>Anita</td>\n",
              "      <td>Sadar</td>\n",
              "      <td>3</td>\n",
              "      <td>7453885512</td>\n",
              "      <td>anu0678@gmail.com</td>\n",
              "      <td>20</td>\n",
              "      <td>Sadar market area Nagpur</td>\n",
              "      <td>10000</td>\n",
              "    </tr>\n",
              "    <tr>\n",
              "      <th>2</th>\n",
              "      <td>AC4512</td>\n",
              "      <td>4543</td>\n",
              "      <td>Karthik</td>\n",
              "      <td>Nagpur</td>\n",
              "      <td>4</td>\n",
              "      <td>6743129766</td>\n",
              "      <td>karthik@gmail.com</td>\n",
              "      <td>22</td>\n",
              "      <td>Nagpur</td>\n",
              "      <td>450000</td>\n",
              "    </tr>\n",
              "    <tr>\n",
              "      <th>3</th>\n",
              "      <td>AC4513</td>\n",
              "      <td>5112</td>\n",
              "      <td>Amita Nikhare</td>\n",
              "      <td>Itwari</td>\n",
              "      <td>2</td>\n",
              "      <td>7855219813</td>\n",
              "      <td>amitanikhare@gmail.com</td>\n",
              "      <td>19</td>\n",
              "      <td>Itwari Nagpur</td>\n",
              "      <td>50000</td>\n",
              "    </tr>\n",
              "    <tr>\n",
              "      <th>4</th>\n",
              "      <td>AC4514</td>\n",
              "      <td>7845</td>\n",
              "      <td>Ankita</td>\n",
              "      <td>Gandhibagh</td>\n",
              "      <td>1</td>\n",
              "      <td>9078562314</td>\n",
              "      <td>ankita@gmail.com</td>\n",
              "      <td>20</td>\n",
              "      <td>Gandhibagh near town hall mahal Nagpur</td>\n",
              "      <td>780000</td>\n",
              "    </tr>\n",
              "    <tr>\n",
              "      <th>5</th>\n",
              "      <td>AC4515</td>\n",
              "      <td>1243</td>\n",
              "      <td>Krishna</td>\n",
              "      <td>Bardi</td>\n",
              "      <td>5</td>\n",
              "      <td>7077431567</td>\n",
              "      <td>krishna44@gmail.com</td>\n",
              "      <td>21</td>\n",
              "      <td>Bardi market area Nagpur</td>\n",
              "      <td>60000</td>\n",
              "    </tr>\n",
              "    <tr>\n",
              "      <th>6</th>\n",
              "      <td>AC4516</td>\n",
              "      <td>2255</td>\n",
              "      <td>Purva</td>\n",
              "      <td>Sadar</td>\n",
              "      <td>3</td>\n",
              "      <td>7654879855</td>\n",
              "      <td>purva56@gmail.com</td>\n",
              "      <td>19</td>\n",
              "      <td>Sadar Nagpur</td>\n",
              "      <td>580000</td>\n",
              "    </tr>\n",
              "    <tr>\n",
              "      <th>7</th>\n",
              "      <td>AC4517</td>\n",
              "      <td>3154</td>\n",
              "      <td>Anushka</td>\n",
              "      <td>Nagpur</td>\n",
              "      <td>4</td>\n",
              "      <td>9277645331</td>\n",
              "      <td>anu123@gmail.com</td>\n",
              "      <td>22</td>\n",
              "      <td>Nagpur</td>\n",
              "      <td>890000</td>\n",
              "    </tr>\n",
              "    <tr>\n",
              "      <th>8</th>\n",
              "      <td>AC4518</td>\n",
              "      <td>4144</td>\n",
              "      <td>Samarth</td>\n",
              "      <td>Itwari</td>\n",
              "      <td>2</td>\n",
              "      <td>8065342722</td>\n",
              "      <td>samarth670@gmail.com</td>\n",
              "      <td>23</td>\n",
              "      <td>Itwari Nagpur</td>\n",
              "      <td>670000</td>\n",
              "    </tr>\n",
              "    <tr>\n",
              "      <th>9</th>\n",
              "      <td>AC4519</td>\n",
              "      <td>6127</td>\n",
              "      <td>Megha</td>\n",
              "      <td>Gandhibagh</td>\n",
              "      <td>1</td>\n",
              "      <td>8856341289</td>\n",
              "      <td>megha89@gmail.com</td>\n",
              "      <td>19</td>\n",
              "      <td>Gandhibagh Nagpur</td>\n",
              "      <td>20000</td>\n",
              "    </tr>\n",
              "  </tbody>\n",
              "</table>\n",
              "</div>"
            ],
            "text/plain": [
              "  Account_no   Pin  ...                                 Address Balance\n",
              "0     AC4510  1123  ...                            Bardi Nagpur  250000\n",
              "1     AC4511  1321  ...                Sadar market area Nagpur   10000\n",
              "2     AC4512  4543  ...                                  Nagpur  450000\n",
              "3     AC4513  5112  ...                           Itwari Nagpur   50000\n",
              "4     AC4514  7845  ...  Gandhibagh near town hall mahal Nagpur  780000\n",
              "5     AC4515  1243  ...                Bardi market area Nagpur   60000\n",
              "6     AC4516  2255  ...                            Sadar Nagpur  580000\n",
              "7     AC4517  3154  ...                                  Nagpur  890000\n",
              "8     AC4518  4144  ...                           Itwari Nagpur  670000\n",
              "9     AC4519  6127  ...                       Gandhibagh Nagpur   20000\n",
              "\n",
              "[10 rows x 10 columns]"
            ]
          },
          "metadata": {
            "tags": []
          },
          "execution_count": 6
        }
      ]
    },
    {
      "cell_type": "code",
      "metadata": {
        "id": "4SziTXHnnNGD",
        "colab": {
          "base_uri": "https://localhost:8080/"
        },
        "outputId": "1a6a25db-3d1e-461c-9753-c1680ba72f71"
      },
      "source": [
        "sample_data.keys()"
      ],
      "execution_count": null,
      "outputs": [
        {
          "output_type": "execute_result",
          "data": {
            "text/plain": [
              "dict_keys(['Account_no', 'Pin', 'Name', 'Branch_name', 'Branch_no', 'Phone_no', 'Email_id', 'Age', 'Address', 'Balance'])"
            ]
          },
          "metadata": {
            "tags": []
          },
          "execution_count": 8
        }
      ]
    },
    {
      "cell_type": "code",
      "metadata": {
        "id": "9UF1U7U7nSOD",
        "colab": {
          "base_uri": "https://localhost:8080/"
        },
        "outputId": "0d39bdbb-6fd5-49a6-de85-5ac92e90944d"
      },
      "source": [
        "sample_data.values()"
      ],
      "execution_count": null,
      "outputs": [
        {
          "output_type": "execute_result",
          "data": {
            "text/plain": [
              "dict_values([['AC4510', 'AC4511', 'AC4512', 'AC4513', 'AC4514', 'AC4515', 'AC4516', 'AC4517', 'AC4518', 'AC4519'], ['1123', '1321', '4543', '5112', '7845', '1243', '2255', '3154', '4144', '6127'], ['Arya Pavar', 'Anita', 'Karthik', 'Amita Nikhare', 'Ankita', 'Krishna', 'Purva', 'Anushka', 'Samarth', 'Megha'], ['Bardi', 'Sadar', 'Nagpur', 'Itwari', 'Gandhibagh', 'Bardi', 'Sadar', 'Nagpur', 'Itwari', 'Gandhibagh'], ['5', '3', '4', '2', '1', '5', '3', '4', '2', '1'], ['9923451208', '7453885512', '6743129766', '7855219813', '9078562314', '7077431567', '7654879855', '9277645331', '8065342722', '8856341289'], ['arya45@gmail.com', 'anu0678@gmail.com', 'karthik@gmail.com', 'amitanikhare@gmail.com', 'ankita@gmail.com', 'krishna44@gmail.com', 'purva56@gmail.com', 'anu123@gmail.com', 'samarth670@gmail.com', 'megha89@gmail.com'], ['21', '20', '22', '19', '20', '21', '19', '22', '23', '19'], ['Bardi Nagpur', 'Sadar market area Nagpur', 'Nagpur', 'Itwari Nagpur', 'Gandhibagh near town hall mahal Nagpur', 'Bardi market area Nagpur', 'Sadar Nagpur', 'Nagpur', 'Itwari Nagpur', 'Gandhibagh Nagpur'], ['250000', '10000', '450000', '50000', '780000', '60000', '580000', '890000', '670000', '20000']])"
            ]
          },
          "metadata": {
            "tags": []
          },
          "execution_count": 9
        }
      ]
    },
    {
      "cell_type": "code",
      "metadata": {
        "id": "xPGrVB-inVWM",
        "colab": {
          "base_uri": "https://localhost:8080/"
        },
        "outputId": "a31c1405-45e2-4e2b-bfc1-041554a308e1"
      },
      "source": [
        "df[\"Name\"]"
      ],
      "execution_count": null,
      "outputs": [
        {
          "output_type": "execute_result",
          "data": {
            "text/plain": [
              "0       Arya Pavar\n",
              "1            Anita\n",
              "2          Karthik\n",
              "3    Amita Nikhare\n",
              "4           Ankita\n",
              "5          Krishna\n",
              "6            Purva\n",
              "7          Anushka\n",
              "8          Samarth\n",
              "9            Megha\n",
              "Name: Name, dtype: object"
            ]
          },
          "metadata": {
            "tags": []
          },
          "execution_count": 10
        }
      ]
    },
    {
      "cell_type": "code",
      "metadata": {
        "id": "0_ExSFKSndIZ",
        "colab": {
          "base_uri": "https://localhost:8080/",
          "height": 204
        },
        "outputId": "dc8c602e-f1e5-4603-ccd9-e6aa2b8ffd11"
      },
      "source": [
        "#display first 5 record\n",
        "df.head()"
      ],
      "execution_count": null,
      "outputs": [
        {
          "output_type": "execute_result",
          "data": {
            "text/html": [
              "<div>\n",
              "<style scoped>\n",
              "    .dataframe tbody tr th:only-of-type {\n",
              "        vertical-align: middle;\n",
              "    }\n",
              "\n",
              "    .dataframe tbody tr th {\n",
              "        vertical-align: top;\n",
              "    }\n",
              "\n",
              "    .dataframe thead th {\n",
              "        text-align: right;\n",
              "    }\n",
              "</style>\n",
              "<table border=\"1\" class=\"dataframe\">\n",
              "  <thead>\n",
              "    <tr style=\"text-align: right;\">\n",
              "      <th></th>\n",
              "      <th>Account_no</th>\n",
              "      <th>Pin</th>\n",
              "      <th>Name</th>\n",
              "      <th>Branch_name</th>\n",
              "      <th>Branch_no</th>\n",
              "      <th>Phone_no</th>\n",
              "      <th>Email_id</th>\n",
              "      <th>Age</th>\n",
              "      <th>Address</th>\n",
              "      <th>Balance</th>\n",
              "    </tr>\n",
              "  </thead>\n",
              "  <tbody>\n",
              "    <tr>\n",
              "      <th>0</th>\n",
              "      <td>AC4510</td>\n",
              "      <td>1123</td>\n",
              "      <td>Arya Pavar</td>\n",
              "      <td>Bardi</td>\n",
              "      <td>5</td>\n",
              "      <td>9923451208</td>\n",
              "      <td>arya45@gmail.com</td>\n",
              "      <td>21</td>\n",
              "      <td>Bardi Nagpur</td>\n",
              "      <td>250000</td>\n",
              "    </tr>\n",
              "    <tr>\n",
              "      <th>1</th>\n",
              "      <td>AC4511</td>\n",
              "      <td>1321</td>\n",
              "      <td>Anita</td>\n",
              "      <td>Sadar</td>\n",
              "      <td>3</td>\n",
              "      <td>7453885512</td>\n",
              "      <td>anu0678@gmail.com</td>\n",
              "      <td>20</td>\n",
              "      <td>Sadar market area Nagpur</td>\n",
              "      <td>10000</td>\n",
              "    </tr>\n",
              "    <tr>\n",
              "      <th>2</th>\n",
              "      <td>AC4512</td>\n",
              "      <td>4543</td>\n",
              "      <td>Karthik</td>\n",
              "      <td>Nagpur</td>\n",
              "      <td>4</td>\n",
              "      <td>6743129766</td>\n",
              "      <td>karthik@gmail.com</td>\n",
              "      <td>22</td>\n",
              "      <td>Nagpur</td>\n",
              "      <td>450000</td>\n",
              "    </tr>\n",
              "    <tr>\n",
              "      <th>3</th>\n",
              "      <td>AC4513</td>\n",
              "      <td>5112</td>\n",
              "      <td>Amita Nikhare</td>\n",
              "      <td>Itwari</td>\n",
              "      <td>2</td>\n",
              "      <td>7855219813</td>\n",
              "      <td>amitanikhare@gmail.com</td>\n",
              "      <td>19</td>\n",
              "      <td>Itwari Nagpur</td>\n",
              "      <td>50000</td>\n",
              "    </tr>\n",
              "    <tr>\n",
              "      <th>4</th>\n",
              "      <td>AC4514</td>\n",
              "      <td>7845</td>\n",
              "      <td>Ankita</td>\n",
              "      <td>Gandhibagh</td>\n",
              "      <td>1</td>\n",
              "      <td>9078562314</td>\n",
              "      <td>ankita@gmail.com</td>\n",
              "      <td>20</td>\n",
              "      <td>Gandhibagh near town hall mahal Nagpur</td>\n",
              "      <td>780000</td>\n",
              "    </tr>\n",
              "  </tbody>\n",
              "</table>\n",
              "</div>"
            ],
            "text/plain": [
              "  Account_no   Pin  ...                                 Address Balance\n",
              "0     AC4510  1123  ...                            Bardi Nagpur  250000\n",
              "1     AC4511  1321  ...                Sadar market area Nagpur   10000\n",
              "2     AC4512  4543  ...                                  Nagpur  450000\n",
              "3     AC4513  5112  ...                           Itwari Nagpur   50000\n",
              "4     AC4514  7845  ...  Gandhibagh near town hall mahal Nagpur  780000\n",
              "\n",
              "[5 rows x 10 columns]"
            ]
          },
          "metadata": {
            "tags": []
          },
          "execution_count": 11
        }
      ]
    },
    {
      "cell_type": "code",
      "metadata": {
        "id": "daM9Tz-Inehm",
        "colab": {
          "base_uri": "https://localhost:8080/",
          "height": 204
        },
        "outputId": "3383c4e0-e7d8-4bb1-c189-d55c53232b8c"
      },
      "source": [
        "#display last 5 record\n",
        "df.tail()"
      ],
      "execution_count": null,
      "outputs": [
        {
          "output_type": "execute_result",
          "data": {
            "text/html": [
              "<div>\n",
              "<style scoped>\n",
              "    .dataframe tbody tr th:only-of-type {\n",
              "        vertical-align: middle;\n",
              "    }\n",
              "\n",
              "    .dataframe tbody tr th {\n",
              "        vertical-align: top;\n",
              "    }\n",
              "\n",
              "    .dataframe thead th {\n",
              "        text-align: right;\n",
              "    }\n",
              "</style>\n",
              "<table border=\"1\" class=\"dataframe\">\n",
              "  <thead>\n",
              "    <tr style=\"text-align: right;\">\n",
              "      <th></th>\n",
              "      <th>Account_no</th>\n",
              "      <th>Pin</th>\n",
              "      <th>Name</th>\n",
              "      <th>Branch_name</th>\n",
              "      <th>Branch_no</th>\n",
              "      <th>Phone_no</th>\n",
              "      <th>Email_id</th>\n",
              "      <th>Age</th>\n",
              "      <th>Address</th>\n",
              "      <th>Balance</th>\n",
              "    </tr>\n",
              "  </thead>\n",
              "  <tbody>\n",
              "    <tr>\n",
              "      <th>5</th>\n",
              "      <td>AC4515</td>\n",
              "      <td>1243</td>\n",
              "      <td>Krishna</td>\n",
              "      <td>Bardi</td>\n",
              "      <td>5</td>\n",
              "      <td>7077431567</td>\n",
              "      <td>krishna44@gmail.com</td>\n",
              "      <td>21</td>\n",
              "      <td>Bardi market area Nagpur</td>\n",
              "      <td>60000</td>\n",
              "    </tr>\n",
              "    <tr>\n",
              "      <th>6</th>\n",
              "      <td>AC4516</td>\n",
              "      <td>2255</td>\n",
              "      <td>Purva</td>\n",
              "      <td>Sadar</td>\n",
              "      <td>3</td>\n",
              "      <td>7654879855</td>\n",
              "      <td>purva56@gmail.com</td>\n",
              "      <td>19</td>\n",
              "      <td>Sadar Nagpur</td>\n",
              "      <td>580000</td>\n",
              "    </tr>\n",
              "    <tr>\n",
              "      <th>7</th>\n",
              "      <td>AC4517</td>\n",
              "      <td>3154</td>\n",
              "      <td>Anushka</td>\n",
              "      <td>Nagpur</td>\n",
              "      <td>4</td>\n",
              "      <td>9277645331</td>\n",
              "      <td>anu123@gmail.com</td>\n",
              "      <td>22</td>\n",
              "      <td>Nagpur</td>\n",
              "      <td>890000</td>\n",
              "    </tr>\n",
              "    <tr>\n",
              "      <th>8</th>\n",
              "      <td>AC4518</td>\n",
              "      <td>4144</td>\n",
              "      <td>Samarth</td>\n",
              "      <td>Itwari</td>\n",
              "      <td>2</td>\n",
              "      <td>8065342722</td>\n",
              "      <td>samarth670@gmail.com</td>\n",
              "      <td>23</td>\n",
              "      <td>Itwari Nagpur</td>\n",
              "      <td>670000</td>\n",
              "    </tr>\n",
              "    <tr>\n",
              "      <th>9</th>\n",
              "      <td>AC4519</td>\n",
              "      <td>6127</td>\n",
              "      <td>Megha</td>\n",
              "      <td>Gandhibagh</td>\n",
              "      <td>1</td>\n",
              "      <td>8856341289</td>\n",
              "      <td>megha89@gmail.com</td>\n",
              "      <td>19</td>\n",
              "      <td>Gandhibagh Nagpur</td>\n",
              "      <td>20000</td>\n",
              "    </tr>\n",
              "  </tbody>\n",
              "</table>\n",
              "</div>"
            ],
            "text/plain": [
              "  Account_no   Pin     Name  ... Age                   Address Balance\n",
              "5     AC4515  1243  Krishna  ...  21  Bardi market area Nagpur   60000\n",
              "6     AC4516  2255    Purva  ...  19              Sadar Nagpur  580000\n",
              "7     AC4517  3154  Anushka  ...  22                    Nagpur  890000\n",
              "8     AC4518  4144  Samarth  ...  23             Itwari Nagpur  670000\n",
              "9     AC4519  6127    Megha  ...  19         Gandhibagh Nagpur   20000\n",
              "\n",
              "[5 rows x 10 columns]"
            ]
          },
          "metadata": {
            "tags": []
          },
          "execution_count": 13
        }
      ]
    },
    {
      "cell_type": "code",
      "metadata": {
        "id": "DahhxuMsni0L",
        "colab": {
          "base_uri": "https://localhost:8080/"
        },
        "outputId": "ef657dd8-01c8-4b88-d40b-78fdcf9b5afa"
      },
      "source": [
        "# check the datatype of 'df' variable\n",
        "type(df)"
      ],
      "execution_count": null,
      "outputs": [
        {
          "output_type": "execute_result",
          "data": {
            "text/plain": [
              "pandas.core.frame.DataFrame"
            ]
          },
          "metadata": {
            "tags": []
          },
          "execution_count": 14
        }
      ]
    },
    {
      "cell_type": "code",
      "metadata": {
        "id": "jkZjYsNhnn3z",
        "colab": {
          "base_uri": "https://localhost:8080/"
        },
        "outputId": "a5966faa-d59f-4c45-82c5-dfc14ba30a2d"
      },
      "source": [
        "# check the length of the dataframe\n",
        "len(df)"
      ],
      "execution_count": null,
      "outputs": [
        {
          "output_type": "execute_result",
          "data": {
            "text/plain": [
              "10"
            ]
          },
          "metadata": {
            "tags": []
          },
          "execution_count": 15
        }
      ]
    },
    {
      "cell_type": "markdown",
      "metadata": {
        "id": "Bvld3ltJnvUB"
      },
      "source": [
        "LOGIN PAGE"
      ]
    },
    {
      "cell_type": "code",
      "metadata": {
        "id": "k7OziK8enxxm"
      },
      "source": [
        "name = []\n",
        "account = []\n",
        "pin  = []\n",
        "name = df.Name.str.lower()\n",
        "account = df.Account_no.str.lower()\n",
        "pin  = df.Pin"
      ],
      "execution_count": null,
      "outputs": []
    },
    {
      "cell_type": "code",
      "metadata": {
        "id": "taZjlkIgn7FB",
        "colab": {
          "base_uri": "https://localhost:8080/"
        },
        "outputId": "517d4700-7540-4669-9ecc-9ddbe6dba207"
      },
      "source": [
        "type(name)"
      ],
      "execution_count": null,
      "outputs": [
        {
          "output_type": "execute_result",
          "data": {
            "text/plain": [
              "pandas.core.series.Series"
            ]
          },
          "metadata": {
            "tags": []
          },
          "execution_count": 17
        }
      ]
    },
    {
      "cell_type": "code",
      "metadata": {
        "id": "sf3RyRrWn-fV",
        "colab": {
          "base_uri": "https://localhost:8080/"
        },
        "outputId": "191f9890-6b2d-4816-99d5-80b1e8c9e37e"
      },
      "source": [
        "def na():\n",
        "    x = 0\n",
        "    nam = input(\"Enter your Name:\")\n",
        "    nam = nam.lower()\n",
        "    f = False\n",
        "    for i in range(0,len(name)):\n",
        "        if nam == name.iloc[i]:\n",
        "            x = i\n",
        "            f = True\n",
        "            break\n",
        "    if f:\n",
        "        print(\"\\033[1m NAME VALID\\n\" + \"\\033[0m\")\n",
        "        return x\n",
        "    else:\n",
        "        print(\"\\033[1m INVALID USERNAME\\n\" + \"\\033[0m\")\n",
        "        na()\n",
        "        \n",
        "x = na()"
      ],
      "execution_count": null,
      "outputs": [
        {
          "output_type": "stream",
          "text": [
            "Enter your Name:Amita Nikhare\n",
            "\u001b[1m NAME VALID\n",
            "\u001b[0m\n"
          ],
          "name": "stdout"
        }
      ]
    },
    {
      "cell_type": "code",
      "metadata": {
        "id": "PNK3PNmTqe1C"
      },
      "source": [
        "p1 = x\n",
        "#print(p1)"
      ],
      "execution_count": null,
      "outputs": []
    },
    {
      "cell_type": "code",
      "metadata": {
        "id": "O3zGOoMvqqiA",
        "colab": {
          "base_uri": "https://localhost:8080/"
        },
        "outputId": "359191cc-c39f-4770-e31a-4831fde2bb92"
      },
      "source": [
        "def acc():\n",
        "    y = 0\n",
        "    acco = input(\"Enter your Account Number:\")\n",
        "    acco = acco.lower()\n",
        "    f = False\n",
        "    for i in range(0,len(account)):\n",
        "        if acco == account.iloc[i]:\n",
        "            y = i\n",
        "            f = True\n",
        "            break\n",
        "    if f:\n",
        "        print(\"\\033[1m ACCOUNT NUMBER VALID\\n\" + \"\\033[0m\")\n",
        "        return y\n",
        "    else:\n",
        "        print(\"\\033[1m INVALID ACCOUNT NUMBER\\n\" + \"\\033[0m\")\n",
        "        acc()\n",
        "        \n",
        "y = acc()"
      ],
      "execution_count": null,
      "outputs": [
        {
          "output_type": "stream",
          "text": [
            "Enter your Account Number:AC4513\n",
            "\u001b[1m ACCOUNT NUMBER VALID\n",
            "\u001b[0m\n"
          ],
          "name": "stdout"
        }
      ]
    },
    {
      "cell_type": "code",
      "metadata": {
        "id": "MG6Y6V_oqxlf"
      },
      "source": [
        "p2 = y \n",
        "#print(p2)"
      ],
      "execution_count": null,
      "outputs": []
    },
    {
      "cell_type": "code",
      "metadata": {
        "id": "zMiUsvtyq5uX",
        "colab": {
          "base_uri": "https://localhost:8080/"
        },
        "outputId": "562b4a9d-7705-411e-9478-5f57f602044b"
      },
      "source": [
        "def pn():\n",
        "    z =  0\n",
        "    p = int(input(\"Enter your Pin Number:\"))\n",
        "    f = True\n",
        "    for i in range(0,len(pin)):\n",
        "        if p == pin.iloc[i]:\n",
        "            z = i\n",
        "            f = False\n",
        "            break\n",
        "    if f:\n",
        "        print(\"\\033[1m Pin NUMBER VALID\\n\" + \"\\033[0m\")\n",
        "        return z\n",
        "    else:\n",
        "        print(\"\\033[1m INVALID Pin NUMBER\\n\" + \"\\033[0m\")\n",
        "        pn()\n",
        "        \n",
        "z = pn()"
      ],
      "execution_count": null,
      "outputs": [
        {
          "output_type": "stream",
          "text": [
            "Enter your Pin Number:5112\n",
            "\u001b[1m Pin NUMBER VALID\n",
            "\u001b[0m\n"
          ],
          "name": "stdout"
        }
      ]
    },
    {
      "cell_type": "code",
      "metadata": {
        "id": "lV2lx9cyq9zi"
      },
      "source": [
        "p3 = z\n",
        "#print(p3)"
      ],
      "execution_count": null,
      "outputs": []
    },
    {
      "cell_type": "code",
      "metadata": {
        "id": "2gaXzZjprHKl"
      },
      "source": [
        "def ph():\n",
        "    phno = int(input(\"Enter your Phone Number:\"))\n",
        "    m = str(phno)\n",
        "    m = len(m)\n",
        "    \n",
        "    if m < 10 and m > 10:\n",
        "        print(\"\\033[1m ...PLEASE RE-ENTER THE PHONE NUMBER\\n\" + \"\\033[0m\")\n",
        "        ph()\n",
        "    else:\n",
        "        print(\"\\033[1m PHONE NUMBER IS VALID\\n\" + \"\\033[0m\")\n",
        "        return phno    "
      ],
      "execution_count": null,
      "outputs": []
    },
    {
      "cell_type": "code",
      "metadata": {
        "id": "lmwtxvpkrMDS",
        "colab": {
          "base_uri": "https://localhost:8080/"
        },
        "outputId": "e1fb0929-fc96-4897-eaab-539dc8a96005"
      },
      "source": [
        "if p1 == p2:\n",
        "    if p2 == p3:\n",
        "        p1 = p2\n",
        "print(p1) "
      ],
      "execution_count": null,
      "outputs": [
        {
          "output_type": "stream",
          "text": [
            "3\n"
          ],
          "name": "stdout"
        }
      ]
    },
    {
      "cell_type": "code",
      "metadata": {
        "colab": {
          "base_uri": "https://localhost:8080/"
        },
        "id": "o9TlCSinEYPJ",
        "outputId": "805b4e5f-2562-4928-e88b-31c843ede0e8"
      },
      "source": [
        "import random\n",
        "def mail():\n",
        "    print(\"\\033[0;30mx\"*127)\n",
        "    print(\"\\033[1m \\033[34m \\033[4m \\t\\t\\t\\t\\t\\t\\t CACHE BANK\" +\"\\033[1m \\033[34m \\033[4m\") \n",
        "    print(\"\\033[0;30mx\"*127)\n",
        "    print(\"\\n\\n\")\n",
        "    x = na()\n",
        "    y = acc()\n",
        "    z = pn()\n",
        "    phone = ph()\n",
        "    if x == y:\n",
        "        if y != z:\n",
        "            print(\"\\033[0;31m \\t\\t\\t\\t\\t CAN PROCEED TO NEXT STEP\\n\\n\" +\"\\033[0;30m\")   \n",
        "        else:\n",
        "            print(\"\\033[0;31m \\t\\t\\t ACCOUNT NUMBER AND PIN MISMATCH..PLEASE LOGIN AGAIN\" +\"\\033[0;30m\")\n",
        "            mail()\n",
        "    else:\n",
        "        print(\"\\033[0;31m \\t\\t\\t USERNAME AND ACCOUNT NUMBER MISMATCH..PLEASE LOGIN AGAIN\" +\"\\033[0;30m\")\n",
        "        mail()\n",
        "           \n",
        "    rand = random.randrange(1000,10000)\n",
        "    print(\"\\033[0;30m An OTP has been sent to your Phone number as displayed \\n \", phone, \" : \", rand)\n",
        "    rando = int(input(\"Enter the OTP received to check for authentication :\"))\n",
        "    print(\"\\n\\n\")\n",
        "    if rand == rando:\n",
        "        print(\"\\033[0;31m \\t\\t\\t\\t\\t\\t ACCESS GRANTED\" +\"\\033[0;30m\")\n",
        "    else:\n",
        "        print(\"\\033[0;31m \\t\\t\\t\\t INCORRECT OTP..TIME LAPSED..NEED TO LOGIN AGAIN\" +\"\\033[0;30m\")\n",
        "        mail()\n",
        "        print(\"\\n\\n\")\n",
        "    print(\"\\033[0;30mx\"*127)\n",
        "    \n",
        "mail()                    \n"
      ],
      "execution_count": null,
      "outputs": [
        {
          "output_type": "stream",
          "text": [
            "\u001b[0;30mx\u001b[0;30mx\u001b[0;30mx\u001b[0;30mx\u001b[0;30mx\u001b[0;30mx\u001b[0;30mx\u001b[0;30mx\u001b[0;30mx\u001b[0;30mx\u001b[0;30mx\u001b[0;30mx\u001b[0;30mx\u001b[0;30mx\u001b[0;30mx\u001b[0;30mx\u001b[0;30mx\u001b[0;30mx\u001b[0;30mx\u001b[0;30mx\u001b[0;30mx\u001b[0;30mx\u001b[0;30mx\u001b[0;30mx\u001b[0;30mx\u001b[0;30mx\u001b[0;30mx\u001b[0;30mx\u001b[0;30mx\u001b[0;30mx\u001b[0;30mx\u001b[0;30mx\u001b[0;30mx\u001b[0;30mx\u001b[0;30mx\u001b[0;30mx\u001b[0;30mx\u001b[0;30mx\u001b[0;30mx\u001b[0;30mx\u001b[0;30mx\u001b[0;30mx\u001b[0;30mx\u001b[0;30mx\u001b[0;30mx\u001b[0;30mx\u001b[0;30mx\u001b[0;30mx\u001b[0;30mx\u001b[0;30mx\u001b[0;30mx\u001b[0;30mx\u001b[0;30mx\u001b[0;30mx\u001b[0;30mx\u001b[0;30mx\u001b[0;30mx\u001b[0;30mx\u001b[0;30mx\u001b[0;30mx\u001b[0;30mx\u001b[0;30mx\u001b[0;30mx\u001b[0;30mx\u001b[0;30mx\u001b[0;30mx\u001b[0;30mx\u001b[0;30mx\u001b[0;30mx\u001b[0;30mx\u001b[0;30mx\u001b[0;30mx\u001b[0;30mx\u001b[0;30mx\u001b[0;30mx\u001b[0;30mx\u001b[0;30mx\u001b[0;30mx\u001b[0;30mx\u001b[0;30mx\u001b[0;30mx\u001b[0;30mx\u001b[0;30mx\u001b[0;30mx\u001b[0;30mx\u001b[0;30mx\u001b[0;30mx\u001b[0;30mx\u001b[0;30mx\u001b[0;30mx\u001b[0;30mx\u001b[0;30mx\u001b[0;30mx\u001b[0;30mx\u001b[0;30mx\u001b[0;30mx\u001b[0;30mx\u001b[0;30mx\u001b[0;30mx\u001b[0;30mx\u001b[0;30mx\u001b[0;30mx\u001b[0;30mx\u001b[0;30mx\u001b[0;30mx\u001b[0;30mx\u001b[0;30mx\u001b[0;30mx\u001b[0;30mx\u001b[0;30mx\u001b[0;30mx\u001b[0;30mx\u001b[0;30mx\u001b[0;30mx\u001b[0;30mx\u001b[0;30mx\u001b[0;30mx\u001b[0;30mx\u001b[0;30mx\u001b[0;30mx\u001b[0;30mx\u001b[0;30mx\u001b[0;30mx\u001b[0;30mx\u001b[0;30mx\u001b[0;30mx\u001b[0;30mx\n",
            "\u001b[1m \u001b[34m \u001b[4m \t\t\t\t\t\t\t CACHE BANK\u001b[1m \u001b[34m \u001b[4m\n",
            "\u001b[0;30mx\u001b[0;30mx\u001b[0;30mx\u001b[0;30mx\u001b[0;30mx\u001b[0;30mx\u001b[0;30mx\u001b[0;30mx\u001b[0;30mx\u001b[0;30mx\u001b[0;30mx\u001b[0;30mx\u001b[0;30mx\u001b[0;30mx\u001b[0;30mx\u001b[0;30mx\u001b[0;30mx\u001b[0;30mx\u001b[0;30mx\u001b[0;30mx\u001b[0;30mx\u001b[0;30mx\u001b[0;30mx\u001b[0;30mx\u001b[0;30mx\u001b[0;30mx\u001b[0;30mx\u001b[0;30mx\u001b[0;30mx\u001b[0;30mx\u001b[0;30mx\u001b[0;30mx\u001b[0;30mx\u001b[0;30mx\u001b[0;30mx\u001b[0;30mx\u001b[0;30mx\u001b[0;30mx\u001b[0;30mx\u001b[0;30mx\u001b[0;30mx\u001b[0;30mx\u001b[0;30mx\u001b[0;30mx\u001b[0;30mx\u001b[0;30mx\u001b[0;30mx\u001b[0;30mx\u001b[0;30mx\u001b[0;30mx\u001b[0;30mx\u001b[0;30mx\u001b[0;30mx\u001b[0;30mx\u001b[0;30mx\u001b[0;30mx\u001b[0;30mx\u001b[0;30mx\u001b[0;30mx\u001b[0;30mx\u001b[0;30mx\u001b[0;30mx\u001b[0;30mx\u001b[0;30mx\u001b[0;30mx\u001b[0;30mx\u001b[0;30mx\u001b[0;30mx\u001b[0;30mx\u001b[0;30mx\u001b[0;30mx\u001b[0;30mx\u001b[0;30mx\u001b[0;30mx\u001b[0;30mx\u001b[0;30mx\u001b[0;30mx\u001b[0;30mx\u001b[0;30mx\u001b[0;30mx\u001b[0;30mx\u001b[0;30mx\u001b[0;30mx\u001b[0;30mx\u001b[0;30mx\u001b[0;30mx\u001b[0;30mx\u001b[0;30mx\u001b[0;30mx\u001b[0;30mx\u001b[0;30mx\u001b[0;30mx\u001b[0;30mx\u001b[0;30mx\u001b[0;30mx\u001b[0;30mx\u001b[0;30mx\u001b[0;30mx\u001b[0;30mx\u001b[0;30mx\u001b[0;30mx\u001b[0;30mx\u001b[0;30mx\u001b[0;30mx\u001b[0;30mx\u001b[0;30mx\u001b[0;30mx\u001b[0;30mx\u001b[0;30mx\u001b[0;30mx\u001b[0;30mx\u001b[0;30mx\u001b[0;30mx\u001b[0;30mx\u001b[0;30mx\u001b[0;30mx\u001b[0;30mx\u001b[0;30mx\u001b[0;30mx\u001b[0;30mx\u001b[0;30mx\u001b[0;30mx\u001b[0;30mx\u001b[0;30mx\u001b[0;30mx\u001b[0;30mx\u001b[0;30mx\n",
            "\n",
            "\n",
            "\n",
            "Enter your Name:Amita Nikhare\n",
            "\u001b[1m NAME VALID\n",
            "\u001b[0m\n",
            "Enter your Account Number:AC4513\n",
            "\u001b[1m ACCOUNT NUMBER VALID\n",
            "\u001b[0m\n",
            "Enter your Pin Number:5112\n",
            "\u001b[1m Pin NUMBER VALID\n",
            "\u001b[0m\n",
            "Enter your Phone Number:7855219813\n",
            "\u001b[1m PHONE NUMBER IS VALID\n",
            "\u001b[0m\n",
            "\u001b[0;31m \t\t\t\t\t CAN PROCEED TO NEXT STEP\n",
            "\n",
            "\u001b[0;30m\n",
            "\u001b[0;30m An OTP has been sent to your Phone number as displayed \n",
            "  7855219813  :  2795\n",
            "Enter the OTP received to check for authentication :2795\n",
            "\n",
            "\n",
            "\n",
            "\u001b[0;31m \t\t\t\t\t\t ACCESS GRANTED\u001b[0;30m\n",
            "\u001b[0;30mx\u001b[0;30mx\u001b[0;30mx\u001b[0;30mx\u001b[0;30mx\u001b[0;30mx\u001b[0;30mx\u001b[0;30mx\u001b[0;30mx\u001b[0;30mx\u001b[0;30mx\u001b[0;30mx\u001b[0;30mx\u001b[0;30mx\u001b[0;30mx\u001b[0;30mx\u001b[0;30mx\u001b[0;30mx\u001b[0;30mx\u001b[0;30mx\u001b[0;30mx\u001b[0;30mx\u001b[0;30mx\u001b[0;30mx\u001b[0;30mx\u001b[0;30mx\u001b[0;30mx\u001b[0;30mx\u001b[0;30mx\u001b[0;30mx\u001b[0;30mx\u001b[0;30mx\u001b[0;30mx\u001b[0;30mx\u001b[0;30mx\u001b[0;30mx\u001b[0;30mx\u001b[0;30mx\u001b[0;30mx\u001b[0;30mx\u001b[0;30mx\u001b[0;30mx\u001b[0;30mx\u001b[0;30mx\u001b[0;30mx\u001b[0;30mx\u001b[0;30mx\u001b[0;30mx\u001b[0;30mx\u001b[0;30mx\u001b[0;30mx\u001b[0;30mx\u001b[0;30mx\u001b[0;30mx\u001b[0;30mx\u001b[0;30mx\u001b[0;30mx\u001b[0;30mx\u001b[0;30mx\u001b[0;30mx\u001b[0;30mx\u001b[0;30mx\u001b[0;30mx\u001b[0;30mx\u001b[0;30mx\u001b[0;30mx\u001b[0;30mx\u001b[0;30mx\u001b[0;30mx\u001b[0;30mx\u001b[0;30mx\u001b[0;30mx\u001b[0;30mx\u001b[0;30mx\u001b[0;30mx\u001b[0;30mx\u001b[0;30mx\u001b[0;30mx\u001b[0;30mx\u001b[0;30mx\u001b[0;30mx\u001b[0;30mx\u001b[0;30mx\u001b[0;30mx\u001b[0;30mx\u001b[0;30mx\u001b[0;30mx\u001b[0;30mx\u001b[0;30mx\u001b[0;30mx\u001b[0;30mx\u001b[0;30mx\u001b[0;30mx\u001b[0;30mx\u001b[0;30mx\u001b[0;30mx\u001b[0;30mx\u001b[0;30mx\u001b[0;30mx\u001b[0;30mx\u001b[0;30mx\u001b[0;30mx\u001b[0;30mx\u001b[0;30mx\u001b[0;30mx\u001b[0;30mx\u001b[0;30mx\u001b[0;30mx\u001b[0;30mx\u001b[0;30mx\u001b[0;30mx\u001b[0;30mx\u001b[0;30mx\u001b[0;30mx\u001b[0;30mx\u001b[0;30mx\u001b[0;30mx\u001b[0;30mx\u001b[0;30mx\u001b[0;30mx\u001b[0;30mx\u001b[0;30mx\u001b[0;30mx\u001b[0;30mx\u001b[0;30mx\u001b[0;30mx\u001b[0;30mx\n"
          ],
          "name": "stdout"
        }
      ]
    },
    {
      "cell_type": "markdown",
      "metadata": {
        "id": "UnITHQbbpZ7z"
      },
      "source": [
        "FEATURES"
      ]
    },
    {
      "cell_type": "code",
      "metadata": {
        "id": "yHJd9ObKsdVk",
        "colab": {
          "base_uri": "https://localhost:8080/",
          "height": 359
        },
        "outputId": "55923465-c87e-4ffc-fc20-ea5cf244784f"
      },
      "source": [
        "import datetime\n",
        "now = datetime.datetime.now()\n",
        "df = pd.DataFrame(data = sample_data)\n",
        "df"
      ],
      "execution_count": null,
      "outputs": [
        {
          "output_type": "execute_result",
          "data": {
            "text/html": [
              "<div>\n",
              "<style scoped>\n",
              "    .dataframe tbody tr th:only-of-type {\n",
              "        vertical-align: middle;\n",
              "    }\n",
              "\n",
              "    .dataframe tbody tr th {\n",
              "        vertical-align: top;\n",
              "    }\n",
              "\n",
              "    .dataframe thead th {\n",
              "        text-align: right;\n",
              "    }\n",
              "</style>\n",
              "<table border=\"1\" class=\"dataframe\">\n",
              "  <thead>\n",
              "    <tr style=\"text-align: right;\">\n",
              "      <th></th>\n",
              "      <th>Account_no</th>\n",
              "      <th>Pin</th>\n",
              "      <th>Name</th>\n",
              "      <th>Branch_name</th>\n",
              "      <th>Branch_no</th>\n",
              "      <th>Phone_no</th>\n",
              "      <th>Email_id</th>\n",
              "      <th>Age</th>\n",
              "      <th>Address</th>\n",
              "      <th>Balance</th>\n",
              "    </tr>\n",
              "  </thead>\n",
              "  <tbody>\n",
              "    <tr>\n",
              "      <th>0</th>\n",
              "      <td>AC4510</td>\n",
              "      <td>1123</td>\n",
              "      <td>Arya Pavar</td>\n",
              "      <td>Bardi</td>\n",
              "      <td>5</td>\n",
              "      <td>9923451208</td>\n",
              "      <td>arya45@gmail.com</td>\n",
              "      <td>21</td>\n",
              "      <td>Bardi Nagpur</td>\n",
              "      <td>250000</td>\n",
              "    </tr>\n",
              "    <tr>\n",
              "      <th>1</th>\n",
              "      <td>AC4511</td>\n",
              "      <td>1321</td>\n",
              "      <td>Anita</td>\n",
              "      <td>Sadar</td>\n",
              "      <td>3</td>\n",
              "      <td>7453885512</td>\n",
              "      <td>anu0678@gmail.com</td>\n",
              "      <td>20</td>\n",
              "      <td>Sadar market area Nagpur</td>\n",
              "      <td>10000</td>\n",
              "    </tr>\n",
              "    <tr>\n",
              "      <th>2</th>\n",
              "      <td>AC4512</td>\n",
              "      <td>4543</td>\n",
              "      <td>Karthik</td>\n",
              "      <td>Nagpur</td>\n",
              "      <td>4</td>\n",
              "      <td>6743129766</td>\n",
              "      <td>karthik@gmail.com</td>\n",
              "      <td>22</td>\n",
              "      <td>Nagpur</td>\n",
              "      <td>450000</td>\n",
              "    </tr>\n",
              "    <tr>\n",
              "      <th>3</th>\n",
              "      <td>AC4513</td>\n",
              "      <td>5112</td>\n",
              "      <td>Amita Nikhare</td>\n",
              "      <td>Itwari</td>\n",
              "      <td>2</td>\n",
              "      <td>7855219813</td>\n",
              "      <td>amitanikhare@gmail.com</td>\n",
              "      <td>19</td>\n",
              "      <td>Itwari Nagpur</td>\n",
              "      <td>50000</td>\n",
              "    </tr>\n",
              "    <tr>\n",
              "      <th>4</th>\n",
              "      <td>AC4514</td>\n",
              "      <td>7845</td>\n",
              "      <td>Ankita</td>\n",
              "      <td>Gandhibagh</td>\n",
              "      <td>1</td>\n",
              "      <td>9078562314</td>\n",
              "      <td>ankita@gmail.com</td>\n",
              "      <td>20</td>\n",
              "      <td>Gandhibagh near town hall mahal Nagpur</td>\n",
              "      <td>780000</td>\n",
              "    </tr>\n",
              "    <tr>\n",
              "      <th>5</th>\n",
              "      <td>AC4515</td>\n",
              "      <td>1243</td>\n",
              "      <td>Krishna</td>\n",
              "      <td>Bardi</td>\n",
              "      <td>5</td>\n",
              "      <td>7077431567</td>\n",
              "      <td>krishna44@gmail.com</td>\n",
              "      <td>21</td>\n",
              "      <td>Bardi market area Nagpur</td>\n",
              "      <td>60000</td>\n",
              "    </tr>\n",
              "    <tr>\n",
              "      <th>6</th>\n",
              "      <td>AC4516</td>\n",
              "      <td>2255</td>\n",
              "      <td>Purva</td>\n",
              "      <td>Sadar</td>\n",
              "      <td>3</td>\n",
              "      <td>7654879855</td>\n",
              "      <td>purva56@gmail.com</td>\n",
              "      <td>19</td>\n",
              "      <td>Sadar Nagpur</td>\n",
              "      <td>580000</td>\n",
              "    </tr>\n",
              "    <tr>\n",
              "      <th>7</th>\n",
              "      <td>AC4517</td>\n",
              "      <td>3154</td>\n",
              "      <td>Anushka</td>\n",
              "      <td>Nagpur</td>\n",
              "      <td>4</td>\n",
              "      <td>9277645331</td>\n",
              "      <td>anu123@gmail.com</td>\n",
              "      <td>22</td>\n",
              "      <td>Nagpur</td>\n",
              "      <td>890000</td>\n",
              "    </tr>\n",
              "    <tr>\n",
              "      <th>8</th>\n",
              "      <td>AC4518</td>\n",
              "      <td>4144</td>\n",
              "      <td>Samarth</td>\n",
              "      <td>Itwari</td>\n",
              "      <td>2</td>\n",
              "      <td>8065342722</td>\n",
              "      <td>samarth670@gmail.com</td>\n",
              "      <td>23</td>\n",
              "      <td>Itwari Nagpur</td>\n",
              "      <td>670000</td>\n",
              "    </tr>\n",
              "    <tr>\n",
              "      <th>9</th>\n",
              "      <td>AC4519</td>\n",
              "      <td>6127</td>\n",
              "      <td>Megha</td>\n",
              "      <td>Gandhibagh</td>\n",
              "      <td>1</td>\n",
              "      <td>8856341289</td>\n",
              "      <td>megha89@gmail.com</td>\n",
              "      <td>19</td>\n",
              "      <td>Gandhibagh Nagpur</td>\n",
              "      <td>20000</td>\n",
              "    </tr>\n",
              "  </tbody>\n",
              "</table>\n",
              "</div>"
            ],
            "text/plain": [
              "  Account_no   Pin  ...                                 Address Balance\n",
              "0     AC4510  1123  ...                            Bardi Nagpur  250000\n",
              "1     AC4511  1321  ...                Sadar market area Nagpur   10000\n",
              "2     AC4512  4543  ...                                  Nagpur  450000\n",
              "3     AC4513  5112  ...                           Itwari Nagpur   50000\n",
              "4     AC4514  7845  ...  Gandhibagh near town hall mahal Nagpur  780000\n",
              "5     AC4515  1243  ...                Bardi market area Nagpur   60000\n",
              "6     AC4516  2255  ...                            Sadar Nagpur  580000\n",
              "7     AC4517  3154  ...                                  Nagpur  890000\n",
              "8     AC4518  4144  ...                           Itwari Nagpur  670000\n",
              "9     AC4519  6127  ...                       Gandhibagh Nagpur   20000\n",
              "\n",
              "[10 rows x 10 columns]"
            ]
          },
          "metadata": {
            "tags": []
          },
          "execution_count": 27
        }
      ]
    },
    {
      "cell_type": "code",
      "metadata": {
        "id": "Ktb92KFjsru7"
      },
      "source": [
        "def operation():\n",
        "    ch = int(input(\"\\033[1m transaction:\" + \"\\033[1m\"))\n",
        "    if ch == 1:\n",
        "        print(\"\\n\" + \"\\033[0;30mx\"*127)\n",
        "        print(\"\\033[1m Balance: \"+\"\\033[1m\", df.iloc[p1][\"Balance\"])\n",
        "        deposit = int(input(\"Enter your amount to be deposited :\"))\n",
        "        if deposit > 0 :\n",
        "            print(\"your amount has been successfully deposited to your account\")\n",
        "            print(\"\\033[1m Balance: \"+\"\\033[1m\", df.iloc[p1][\"Balance\"])\n",
        "            amount = int(df.iloc[p1][\"Balance\"]) + deposit\n",
        "            print(\"your current balance:\", amount)\n",
        "            pd.DataFrame(data = sample_data)\n",
        "            print(\"\\033[1m Thanks for using CACHE BANK\" +\"\\033[1m\")\n",
        "        else:\n",
        "            print(\"\\033[1m INVALID amount to proceed....operation unsuccessful\" +\"\\033[1m\")\n",
        "        print(\"\\n\"+\"\\033[0;30mx\"*127)\n",
        "        \n",
        "    if ch == 2:\n",
        "        print(\"\\n\" + \"\\033[0;30mx\"*127)\n",
        "        print(\"\\033[1m Balance: \"+\"\\033[1m\", df.iloc[p1][\"Balance\"])\n",
        "        amount = int(input(\"Enter your amount to  proceed :\"))\n",
        "        if amount <= int(df.iloc[p1][\"Balance\"]):\n",
        "            print(\"collect your cash!\")\n",
        "            df.loc[p1,\"Balance\"] = int(df.loc[p1,\"Balance\"]) - amount\n",
        "            pd.DataFrame(data = sample_data)\n",
        "            print(\"your current balance is:\")\n",
        "            print(\"Balance: \", df.iloc[p1][\"Balance\"])\n",
        "            print(\"\\033[1m Thanks for using CACHE BANK\" +\"\\033[1m\")\n",
        "        else:\n",
        "            print(\"\\033[1m NO sufficient balance....operation Failed\" +\"\\033[1m\")\n",
        "        print(\"\\n\"+\"\\033[0;30mx\"*127)\n",
        "        \n",
        "    if ch == 3:\n",
        "        print(\"\\n\" + \"\\033[0;30mx\"*127)\n",
        "        change_pin = input(\"\\033[1m Enter new PIN:\" +\"\\033[1m\")\n",
        "        length = len(change_pin)\n",
        "        if length == 4:\n",
        "            print(\"\\033[1m your PIN has been successfully changed..!\" +\"\\033[1m\")\n",
        "            print(\"New PIN: \" + change_pin)\n",
        "            df.loc[p1,\"pin\"] = change_pin\n",
        "            pd.DataFrame(data = sample_data)       \n",
        "            print(\"\\033[1m Thanks for using CACHE BANK\" +\"\\033[1m\")\n",
        "        else:      \n",
        "            print(\"\\033[1m Invalid PIN to proceed....operation Failed\" +\"\\033[1m\")\n",
        "        print(\"\\n\"+\"\\033[0;30mx\"*127)\n",
        "                   \n",
        "    if ch == 4:\n",
        "        print(\"\\n\" + \"\\033[0;30mx\"*127)\n",
        "        print(\"\\033[1m Date and Time:\" +\"\\033[1m\" + now.strftime(\"%d - %m - %y  %H:%M:%S\"))\n",
        "        print(\"\\n\" + \"\\033[0;30mx\"*127)\n",
        "        print(\"\\033[1m please collect your mini statement\" +\"\\033[1m\")\n",
        "        print(df.iloc[p1])\n",
        "        print(\"\\033[1m Thanks for using CACHE BANK\" +\"\\033[1m\")\n",
        "        print(\"\\n\"+\"\\033[0;30mx\"*127)\n",
        "    \n",
        "    if ch == 5:\n",
        "        print(\"\\n\" + \"\\033[0;30mx\"*127)\n",
        "        quit1 = input(\"\\033[1m press Q to quit...!\"+\"\\033[1m  \")\n",
        "        if quit1 == \"Q\":\n",
        "            print(\"Quit\")\n",
        "        else:\n",
        "            print(\"\\033[1m choose any transaction please:\"+\"\\033[1m  \")\n",
        "        print(\"\\n\" + \"\\033[0;30mx\"*127)\n",
        "        operation()"
      ],
      "execution_count": null,
      "outputs": []
    },
    {
      "cell_type": "code",
      "metadata": {
        "id": "D0KWjYyPskAw",
        "colab": {
          "base_uri": "https://localhost:8080/"
        },
        "outputId": "e80ed4d9-79bf-49ea-b3b6-c1e100de4821"
      },
      "source": [
        "print(\"\\n\" + \"\\033[0;30mx\"*127)\n",
        "print(\"\\033[1m \\033[34m \\033[4m \\t\\t\\t\\t\\t\\t\\t CACHE BANK\" + \"\\033[1m \\033[34m \\033[4m\")\n",
        "print(\"\\n\" + \"\\033[0;30mx\"*127)\n",
        "print(\"choose your option:\")\n",
        "print(\"1. Credit denomination\")\n",
        "print(\"2. Debit denomination\")\n",
        "print(\"3. Change your PIN:\")\n",
        "print(\"4. Mini statement\")\n",
        "print(\"5. Quit\")\n",
        "operation()"
      ],
      "execution_count": null,
      "outputs": [
        {
          "output_type": "stream",
          "text": [
            "\n",
            "\u001b[0;30mx\u001b[0;30mx\u001b[0;30mx\u001b[0;30mx\u001b[0;30mx\u001b[0;30mx\u001b[0;30mx\u001b[0;30mx\u001b[0;30mx\u001b[0;30mx\u001b[0;30mx\u001b[0;30mx\u001b[0;30mx\u001b[0;30mx\u001b[0;30mx\u001b[0;30mx\u001b[0;30mx\u001b[0;30mx\u001b[0;30mx\u001b[0;30mx\u001b[0;30mx\u001b[0;30mx\u001b[0;30mx\u001b[0;30mx\u001b[0;30mx\u001b[0;30mx\u001b[0;30mx\u001b[0;30mx\u001b[0;30mx\u001b[0;30mx\u001b[0;30mx\u001b[0;30mx\u001b[0;30mx\u001b[0;30mx\u001b[0;30mx\u001b[0;30mx\u001b[0;30mx\u001b[0;30mx\u001b[0;30mx\u001b[0;30mx\u001b[0;30mx\u001b[0;30mx\u001b[0;30mx\u001b[0;30mx\u001b[0;30mx\u001b[0;30mx\u001b[0;30mx\u001b[0;30mx\u001b[0;30mx\u001b[0;30mx\u001b[0;30mx\u001b[0;30mx\u001b[0;30mx\u001b[0;30mx\u001b[0;30mx\u001b[0;30mx\u001b[0;30mx\u001b[0;30mx\u001b[0;30mx\u001b[0;30mx\u001b[0;30mx\u001b[0;30mx\u001b[0;30mx\u001b[0;30mx\u001b[0;30mx\u001b[0;30mx\u001b[0;30mx\u001b[0;30mx\u001b[0;30mx\u001b[0;30mx\u001b[0;30mx\u001b[0;30mx\u001b[0;30mx\u001b[0;30mx\u001b[0;30mx\u001b[0;30mx\u001b[0;30mx\u001b[0;30mx\u001b[0;30mx\u001b[0;30mx\u001b[0;30mx\u001b[0;30mx\u001b[0;30mx\u001b[0;30mx\u001b[0;30mx\u001b[0;30mx\u001b[0;30mx\u001b[0;30mx\u001b[0;30mx\u001b[0;30mx\u001b[0;30mx\u001b[0;30mx\u001b[0;30mx\u001b[0;30mx\u001b[0;30mx\u001b[0;30mx\u001b[0;30mx\u001b[0;30mx\u001b[0;30mx\u001b[0;30mx\u001b[0;30mx\u001b[0;30mx\u001b[0;30mx\u001b[0;30mx\u001b[0;30mx\u001b[0;30mx\u001b[0;30mx\u001b[0;30mx\u001b[0;30mx\u001b[0;30mx\u001b[0;30mx\u001b[0;30mx\u001b[0;30mx\u001b[0;30mx\u001b[0;30mx\u001b[0;30mx\u001b[0;30mx\u001b[0;30mx\u001b[0;30mx\u001b[0;30mx\u001b[0;30mx\u001b[0;30mx\u001b[0;30mx\u001b[0;30mx\u001b[0;30mx\u001b[0;30mx\u001b[0;30mx\n",
            "\u001b[1m \u001b[34m \u001b[4m \t\t\t\t\t\t\t CACHE BANK\u001b[1m \u001b[34m \u001b[4m\n",
            "\n",
            "\u001b[0;30mx\u001b[0;30mx\u001b[0;30mx\u001b[0;30mx\u001b[0;30mx\u001b[0;30mx\u001b[0;30mx\u001b[0;30mx\u001b[0;30mx\u001b[0;30mx\u001b[0;30mx\u001b[0;30mx\u001b[0;30mx\u001b[0;30mx\u001b[0;30mx\u001b[0;30mx\u001b[0;30mx\u001b[0;30mx\u001b[0;30mx\u001b[0;30mx\u001b[0;30mx\u001b[0;30mx\u001b[0;30mx\u001b[0;30mx\u001b[0;30mx\u001b[0;30mx\u001b[0;30mx\u001b[0;30mx\u001b[0;30mx\u001b[0;30mx\u001b[0;30mx\u001b[0;30mx\u001b[0;30mx\u001b[0;30mx\u001b[0;30mx\u001b[0;30mx\u001b[0;30mx\u001b[0;30mx\u001b[0;30mx\u001b[0;30mx\u001b[0;30mx\u001b[0;30mx\u001b[0;30mx\u001b[0;30mx\u001b[0;30mx\u001b[0;30mx\u001b[0;30mx\u001b[0;30mx\u001b[0;30mx\u001b[0;30mx\u001b[0;30mx\u001b[0;30mx\u001b[0;30mx\u001b[0;30mx\u001b[0;30mx\u001b[0;30mx\u001b[0;30mx\u001b[0;30mx\u001b[0;30mx\u001b[0;30mx\u001b[0;30mx\u001b[0;30mx\u001b[0;30mx\u001b[0;30mx\u001b[0;30mx\u001b[0;30mx\u001b[0;30mx\u001b[0;30mx\u001b[0;30mx\u001b[0;30mx\u001b[0;30mx\u001b[0;30mx\u001b[0;30mx\u001b[0;30mx\u001b[0;30mx\u001b[0;30mx\u001b[0;30mx\u001b[0;30mx\u001b[0;30mx\u001b[0;30mx\u001b[0;30mx\u001b[0;30mx\u001b[0;30mx\u001b[0;30mx\u001b[0;30mx\u001b[0;30mx\u001b[0;30mx\u001b[0;30mx\u001b[0;30mx\u001b[0;30mx\u001b[0;30mx\u001b[0;30mx\u001b[0;30mx\u001b[0;30mx\u001b[0;30mx\u001b[0;30mx\u001b[0;30mx\u001b[0;30mx\u001b[0;30mx\u001b[0;30mx\u001b[0;30mx\u001b[0;30mx\u001b[0;30mx\u001b[0;30mx\u001b[0;30mx\u001b[0;30mx\u001b[0;30mx\u001b[0;30mx\u001b[0;30mx\u001b[0;30mx\u001b[0;30mx\u001b[0;30mx\u001b[0;30mx\u001b[0;30mx\u001b[0;30mx\u001b[0;30mx\u001b[0;30mx\u001b[0;30mx\u001b[0;30mx\u001b[0;30mx\u001b[0;30mx\u001b[0;30mx\u001b[0;30mx\u001b[0;30mx\u001b[0;30mx\u001b[0;30mx\u001b[0;30mx\n",
            "choose your option:\n",
            "1. Credit denomination\n",
            "2. Debit denomination\n",
            "3. Change your PIN:\n",
            "4. Mini statement\n",
            "5. Quit\n",
            "\u001b[1m transaction:\u001b[1m4\n",
            "\n",
            "\u001b[0;30mx\u001b[0;30mx\u001b[0;30mx\u001b[0;30mx\u001b[0;30mx\u001b[0;30mx\u001b[0;30mx\u001b[0;30mx\u001b[0;30mx\u001b[0;30mx\u001b[0;30mx\u001b[0;30mx\u001b[0;30mx\u001b[0;30mx\u001b[0;30mx\u001b[0;30mx\u001b[0;30mx\u001b[0;30mx\u001b[0;30mx\u001b[0;30mx\u001b[0;30mx\u001b[0;30mx\u001b[0;30mx\u001b[0;30mx\u001b[0;30mx\u001b[0;30mx\u001b[0;30mx\u001b[0;30mx\u001b[0;30mx\u001b[0;30mx\u001b[0;30mx\u001b[0;30mx\u001b[0;30mx\u001b[0;30mx\u001b[0;30mx\u001b[0;30mx\u001b[0;30mx\u001b[0;30mx\u001b[0;30mx\u001b[0;30mx\u001b[0;30mx\u001b[0;30mx\u001b[0;30mx\u001b[0;30mx\u001b[0;30mx\u001b[0;30mx\u001b[0;30mx\u001b[0;30mx\u001b[0;30mx\u001b[0;30mx\u001b[0;30mx\u001b[0;30mx\u001b[0;30mx\u001b[0;30mx\u001b[0;30mx\u001b[0;30mx\u001b[0;30mx\u001b[0;30mx\u001b[0;30mx\u001b[0;30mx\u001b[0;30mx\u001b[0;30mx\u001b[0;30mx\u001b[0;30mx\u001b[0;30mx\u001b[0;30mx\u001b[0;30mx\u001b[0;30mx\u001b[0;30mx\u001b[0;30mx\u001b[0;30mx\u001b[0;30mx\u001b[0;30mx\u001b[0;30mx\u001b[0;30mx\u001b[0;30mx\u001b[0;30mx\u001b[0;30mx\u001b[0;30mx\u001b[0;30mx\u001b[0;30mx\u001b[0;30mx\u001b[0;30mx\u001b[0;30mx\u001b[0;30mx\u001b[0;30mx\u001b[0;30mx\u001b[0;30mx\u001b[0;30mx\u001b[0;30mx\u001b[0;30mx\u001b[0;30mx\u001b[0;30mx\u001b[0;30mx\u001b[0;30mx\u001b[0;30mx\u001b[0;30mx\u001b[0;30mx\u001b[0;30mx\u001b[0;30mx\u001b[0;30mx\u001b[0;30mx\u001b[0;30mx\u001b[0;30mx\u001b[0;30mx\u001b[0;30mx\u001b[0;30mx\u001b[0;30mx\u001b[0;30mx\u001b[0;30mx\u001b[0;30mx\u001b[0;30mx\u001b[0;30mx\u001b[0;30mx\u001b[0;30mx\u001b[0;30mx\u001b[0;30mx\u001b[0;30mx\u001b[0;30mx\u001b[0;30mx\u001b[0;30mx\u001b[0;30mx\u001b[0;30mx\u001b[0;30mx\u001b[0;30mx\u001b[0;30mx\u001b[0;30mx\n",
            "\u001b[1m Date and Time:\u001b[1m08 - 05 - 21  14:07:58\n",
            "\n",
            "\u001b[0;30mx\u001b[0;30mx\u001b[0;30mx\u001b[0;30mx\u001b[0;30mx\u001b[0;30mx\u001b[0;30mx\u001b[0;30mx\u001b[0;30mx\u001b[0;30mx\u001b[0;30mx\u001b[0;30mx\u001b[0;30mx\u001b[0;30mx\u001b[0;30mx\u001b[0;30mx\u001b[0;30mx\u001b[0;30mx\u001b[0;30mx\u001b[0;30mx\u001b[0;30mx\u001b[0;30mx\u001b[0;30mx\u001b[0;30mx\u001b[0;30mx\u001b[0;30mx\u001b[0;30mx\u001b[0;30mx\u001b[0;30mx\u001b[0;30mx\u001b[0;30mx\u001b[0;30mx\u001b[0;30mx\u001b[0;30mx\u001b[0;30mx\u001b[0;30mx\u001b[0;30mx\u001b[0;30mx\u001b[0;30mx\u001b[0;30mx\u001b[0;30mx\u001b[0;30mx\u001b[0;30mx\u001b[0;30mx\u001b[0;30mx\u001b[0;30mx\u001b[0;30mx\u001b[0;30mx\u001b[0;30mx\u001b[0;30mx\u001b[0;30mx\u001b[0;30mx\u001b[0;30mx\u001b[0;30mx\u001b[0;30mx\u001b[0;30mx\u001b[0;30mx\u001b[0;30mx\u001b[0;30mx\u001b[0;30mx\u001b[0;30mx\u001b[0;30mx\u001b[0;30mx\u001b[0;30mx\u001b[0;30mx\u001b[0;30mx\u001b[0;30mx\u001b[0;30mx\u001b[0;30mx\u001b[0;30mx\u001b[0;30mx\u001b[0;30mx\u001b[0;30mx\u001b[0;30mx\u001b[0;30mx\u001b[0;30mx\u001b[0;30mx\u001b[0;30mx\u001b[0;30mx\u001b[0;30mx\u001b[0;30mx\u001b[0;30mx\u001b[0;30mx\u001b[0;30mx\u001b[0;30mx\u001b[0;30mx\u001b[0;30mx\u001b[0;30mx\u001b[0;30mx\u001b[0;30mx\u001b[0;30mx\u001b[0;30mx\u001b[0;30mx\u001b[0;30mx\u001b[0;30mx\u001b[0;30mx\u001b[0;30mx\u001b[0;30mx\u001b[0;30mx\u001b[0;30mx\u001b[0;30mx\u001b[0;30mx\u001b[0;30mx\u001b[0;30mx\u001b[0;30mx\u001b[0;30mx\u001b[0;30mx\u001b[0;30mx\u001b[0;30mx\u001b[0;30mx\u001b[0;30mx\u001b[0;30mx\u001b[0;30mx\u001b[0;30mx\u001b[0;30mx\u001b[0;30mx\u001b[0;30mx\u001b[0;30mx\u001b[0;30mx\u001b[0;30mx\u001b[0;30mx\u001b[0;30mx\u001b[0;30mx\u001b[0;30mx\u001b[0;30mx\u001b[0;30mx\u001b[0;30mx\n",
            "\u001b[1m please collect your mini statement\u001b[1m\n",
            "Account_no                     AC4513\n",
            "Pin                              5112\n",
            "Name                    Amita Nikhare\n",
            "Branch_name                    Itwari\n",
            "Branch_no                           2\n",
            "Phone_no                   7855219813\n",
            "Email_id       amitanikhare@gmail.com\n",
            "Age                                19\n",
            "Address                 Itwari Nagpur\n",
            "Balance                         50000\n",
            "Name: 3, dtype: object\n",
            "\u001b[1m Thanks for using CACHE BANK\u001b[1m\n",
            "\n",
            "\u001b[0;30mx\u001b[0;30mx\u001b[0;30mx\u001b[0;30mx\u001b[0;30mx\u001b[0;30mx\u001b[0;30mx\u001b[0;30mx\u001b[0;30mx\u001b[0;30mx\u001b[0;30mx\u001b[0;30mx\u001b[0;30mx\u001b[0;30mx\u001b[0;30mx\u001b[0;30mx\u001b[0;30mx\u001b[0;30mx\u001b[0;30mx\u001b[0;30mx\u001b[0;30mx\u001b[0;30mx\u001b[0;30mx\u001b[0;30mx\u001b[0;30mx\u001b[0;30mx\u001b[0;30mx\u001b[0;30mx\u001b[0;30mx\u001b[0;30mx\u001b[0;30mx\u001b[0;30mx\u001b[0;30mx\u001b[0;30mx\u001b[0;30mx\u001b[0;30mx\u001b[0;30mx\u001b[0;30mx\u001b[0;30mx\u001b[0;30mx\u001b[0;30mx\u001b[0;30mx\u001b[0;30mx\u001b[0;30mx\u001b[0;30mx\u001b[0;30mx\u001b[0;30mx\u001b[0;30mx\u001b[0;30mx\u001b[0;30mx\u001b[0;30mx\u001b[0;30mx\u001b[0;30mx\u001b[0;30mx\u001b[0;30mx\u001b[0;30mx\u001b[0;30mx\u001b[0;30mx\u001b[0;30mx\u001b[0;30mx\u001b[0;30mx\u001b[0;30mx\u001b[0;30mx\u001b[0;30mx\u001b[0;30mx\u001b[0;30mx\u001b[0;30mx\u001b[0;30mx\u001b[0;30mx\u001b[0;30mx\u001b[0;30mx\u001b[0;30mx\u001b[0;30mx\u001b[0;30mx\u001b[0;30mx\u001b[0;30mx\u001b[0;30mx\u001b[0;30mx\u001b[0;30mx\u001b[0;30mx\u001b[0;30mx\u001b[0;30mx\u001b[0;30mx\u001b[0;30mx\u001b[0;30mx\u001b[0;30mx\u001b[0;30mx\u001b[0;30mx\u001b[0;30mx\u001b[0;30mx\u001b[0;30mx\u001b[0;30mx\u001b[0;30mx\u001b[0;30mx\u001b[0;30mx\u001b[0;30mx\u001b[0;30mx\u001b[0;30mx\u001b[0;30mx\u001b[0;30mx\u001b[0;30mx\u001b[0;30mx\u001b[0;30mx\u001b[0;30mx\u001b[0;30mx\u001b[0;30mx\u001b[0;30mx\u001b[0;30mx\u001b[0;30mx\u001b[0;30mx\u001b[0;30mx\u001b[0;30mx\u001b[0;30mx\u001b[0;30mx\u001b[0;30mx\u001b[0;30mx\u001b[0;30mx\u001b[0;30mx\u001b[0;30mx\u001b[0;30mx\u001b[0;30mx\u001b[0;30mx\u001b[0;30mx\u001b[0;30mx\u001b[0;30mx\u001b[0;30mx\u001b[0;30mx\n"
          ],
          "name": "stdout"
        }
      ]
    }
  ]
}